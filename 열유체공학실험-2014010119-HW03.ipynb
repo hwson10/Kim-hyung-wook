{
  "nbformat": 4,
  "nbformat_minor": 0,
  "metadata": {
    "colab": {
      "name": "Untitled0.ipynb",
      "version": "0.3.2",
      "provenance": [],
      "include_colab_link": true
    },
    "kernelspec": {
      "name": "python3",
      "display_name": "Python 3"
    }
  },
  "cells": [
    {
      "cell_type": "markdown",
      "metadata": {
        "id": "view-in-github",
        "colab_type": "text"
      },
      "source": [
        "<a href=\"https://colab.research.google.com/github/hwson10/Kim-hyung-wook/blob/master/%EC%97%B4%EC%9C%A0%EC%B2%B4%EA%B3%B5%ED%95%99%EC%8B%A4%ED%97%98-2014010119-HW03.ipynb\" target=\"_parent\"><img src=\"https://colab.research.google.com/assets/colab-badge.svg\" alt=\"Open In Colab\"/></a>"
      ]
    },
    {
      "cell_type": "code",
      "metadata": {
        "id": "r58BUNnazXv2",
        "colab_type": "code",
        "colab": {
          "base_uri": "https://localhost:8080/",
          "height": 53
        },
        "outputId": "b4d7f06a-5125-4712-9616-3bb46f2225ed"
      },
      "source": [
        "import numpy as np\n",
        "x=int(input('몇단을 출력하시겠습니까?:'))\n",
        "array=np.arange(1,10)\n",
        "print(x*array)\n",
        "\n"
      ],
      "execution_count": 3,
      "outputs": [
        {
          "output_type": "stream",
          "text": [
            "몇단을 출력하시겠습니까?:4\n",
            "[ 4  8 12 16 20 24 28 32 36]\n"
          ],
          "name": "stdout"
        }
      ]
    }
  ]
}
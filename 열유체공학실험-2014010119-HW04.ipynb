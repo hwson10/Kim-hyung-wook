{
  "nbformat": 4,
  "nbformat_minor": 0,
  "metadata": {
    "colab": {
      "name": "Untitled4.ipynb",
      "provenance": [],
      "collapsed_sections": [],
      "include_colab_link": true
    },
    "kernelspec": {
      "name": "python3",
      "display_name": "Python 3"
    }
  },
  "cells": [
    {
      "cell_type": "markdown",
      "metadata": {
        "id": "view-in-github",
        "colab_type": "text"
      },
      "source": [
        "<a href=\"https://colab.research.google.com/github/hwson10/Kim-hyung-wook/blob/master/%EC%97%B4%EC%9C%A0%EC%B2%B4%EA%B3%B5%ED%95%99%EC%8B%A4%ED%97%98-2014010119-HW04.ipynb\" target=\"_parent\"><img src=\"https://colab.research.google.com/assets/colab-badge.svg\" alt=\"Open In Colab\"/></a>"
      ]
    },
    {
      "cell_type": "code",
      "metadata": {
        "id": "t9M7s7kI_4xz",
        "colab_type": "code",
        "colab": {
          "base_uri": "https://localhost:8080/",
          "height": 233
        },
        "outputId": "d011853c-e3ab-4a52-953c-427212320122"
      },
      "source": [
        "#파이썬 기본 문법 이용\n",
        "\n",
        "def python(x):\n",
        "  x=int(input('몇단을 출력하시겠습니까?:'))\n",
        "  print(x,'단')\n",
        "  for i in range(1,10):\n",
        "    print(x,'*',i,'=',i*x)\n",
        "\n",
        "%timeit python\n"
      ],
      "execution_count": 9,
      "outputs": [
        {
          "output_type": "stream",
          "text": [
            "몇단을 출력하시겠습니까?:4\n",
            "4 단\n",
            "4 * 1 = 4\n",
            "4 * 2 = 8\n",
            "4 * 3 = 12\n",
            "4 * 4 = 16\n",
            "4 * 5 = 20\n",
            "4 * 6 = 24\n",
            "4 * 7 = 28\n",
            "4 * 8 = 32\n",
            "4 * 9 = 36\n",
            "100000000 loops, best of 3: 17 ns per loop\n"
          ],
          "name": "stdout"
        }
      ]
    },
    {
      "cell_type": "code",
      "metadata": {
        "id": "pyzfnvffAzfE",
        "colab_type": "code",
        "colab": {
          "base_uri": "https://localhost:8080/",
          "height": 89
        },
        "outputId": "f56c2ffe-fea9-4721-93b9-bdbdb5969274"
      },
      "source": [
        "#numpy 이용\n",
        "\n",
        "def numpy(x):\n",
        "  x=int(input('몇단을 출력하시겠습니까?:'))\n",
        "  array=np.arange(1,10)\n",
        "  print(x,'단')\n",
        "  print(x*array)\n",
        "  \n",
        "%timeit numpy"
      ],
      "execution_count": 23,
      "outputs": [
        {
          "output_type": "stream",
          "text": [
            "몇단을 출력하시겠습니까?:4\n",
            "4 단\n",
            "[ 4  8 12 16 20 24 28 32 36]\n",
            "100000000 loops, best of 3: 18.1 ns per loop\n"
          ],
          "name": "stdout"
        }
      ]
    },
    {
      "cell_type": "code",
      "metadata": {
        "id": "UJ1wwOjQCtvt",
        "colab_type": "code",
        "colab": {
          "base_uri": "https://localhost:8080/",
          "height": 35
        },
        "outputId": "e3bdf4f1-e508-4c0b-ca72-dd2d3d6a67fb"
      },
      "source": [
        "#numba.jit 이용\n",
        "import numpy as np\n",
        "import numba\n",
        "\n",
        "\n",
        "@numba.jit(\"void(f4[:])\")\n",
        "def numba_jit(x):\n",
        "  x=int(input('몇단을 출력하시겠습니까?:'))\n",
        "  array=np.arange(1,10)\n",
        "  print(x,'단')\n",
        "  print(x*array)\n",
        "\n",
        "%timeit numba_jit"
      ],
      "execution_count": 29,
      "outputs": [
        {
          "output_type": "stream",
          "text": [
            "100000000 loops, best of 3: 20.1 ns per loop\n"
          ],
          "name": "stdout"
        }
      ]
    },
    {
      "cell_type": "code",
      "metadata": {
        "id": "Y62y4cVRIq1c",
        "colab_type": "code",
        "colab": {}
      },
      "source": [
        ""
      ],
      "execution_count": 0,
      "outputs": []
    },
    {
      "cell_type": "code",
      "metadata": {
        "id": "6e2E4W7bXZL_",
        "colab_type": "code",
        "outputId": "a5fe9d0a-6743-4a19-9296-6b96d45deaac",
        "colab": {
          "base_uri": "https://localhost:8080/",
          "height": 71
        }
      },
      "source": [
        "#cuda 이용\n",
        "!find / -iname 'libdevice'\n",
        "!find / -iname 'libnvvm.so'\n",
        "import os\n",
        "os.environ['NUMBAPRO_LIBDEVICE'] = \"/usr/local/cuda-10.0/nvvm/libdevice\"\n",
        "os.environ['NUMBAPRO_NVVM'] = \"/usr/local/cuda-10.0/nvvm/lib64/libnvvm.so\"\n",
        "\n",
        "import numpy as np\n",
        "from numba import vectorize\n",
        "\n",
        "a = np.array([1,2,3,4,5,6,7,8,9])\n",
        "b = int(input('몇단을 출력하시겠습니까?:'))\n",
        "\n",
        "\n",
        "\n",
        "@vectorize(['int64(int64, int64)'], target='cuda') # Type signature and target are required for the GPU\n",
        "def cuda_ufunc(x, y):\n",
        "      return x*y\n",
        "print(cuda_ufunc(a, b))\n",
        "%timeit cuda_ufunc(a, b) # Numba on GPU"
      ],
      "execution_count": 0,
      "outputs": [
        {
          "output_type": "stream",
          "text": [
            "몇단을 출력하시겠습니까?:4\n",
            "[ 4  8 12 16 20 24 28 32 36]\n",
            "1000 loops, best of 3: 1.14 ms per loop\n"
          ],
          "name": "stdout"
        }
      ]
    },
    {
      "cell_type": "code",
      "metadata": {
        "id": "Wcn5ZrWyQKeI",
        "colab_type": "code",
        "colab": {}
      },
      "source": [
        ""
      ],
      "execution_count": 0,
      "outputs": []
    }
  ]
}